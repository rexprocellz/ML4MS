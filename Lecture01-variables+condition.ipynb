{
 "cells": [
  {
   "cell_type": "markdown",
   "metadata": {
    "id": "-o-uJ7oc94yu"
   },
   "source": [
    "# Learning goals <a class=\"anchor\" id=\"goal\"></a>\n",
    "- print and input \n",
    "- four types of variables\n",
    "- standard build-in functions for 4 types of variables\n",
    "- conditions \n"
   ]
  },
  {
   "cell_type": "markdown",
   "metadata": {
    "id": "XzruZsW8_KRR"
   },
   "source": [
    "# General aspects of Python scripting\n",
    "- Case sensitive\n",
    "- Always with proper indentations\n",
    "- Do not be afraid of errors -- traceback! Debug!\n",
    "- A big user community thus a lot of functions implemented"
   ]
  },
  {
   "cell_type": "markdown",
   "metadata": {
    "id": "foBFCRCR_94g"
   },
   "source": [
    "# Comments\n",
    "- a note (short or extended) for us/others to understand the code, usually in plain language\n",
    "- usually with a #, can be anywhere in the codes\n",
    "- can also be used to comment out the unwanted code lines\n",
    "- '''...''' for continuous lines"
   ]
  },
  {
   "cell_type": "markdown",
   "metadata": {
    "id": "Zh5N5i-M-4Xg"
   },
   "source": [
    "# print and input <a class=\"anchor\" id=\"print+input\"></a>"
   ]
  },
  {
   "cell_type": "code",
   "execution_count": 76,
   "metadata": {
    "colab": {
     "base_uri": "https://localhost:8080/"
    },
    "executionInfo": {
     "elapsed": 403,
     "status": "ok",
     "timestamp": 1617704736408,
     "user": {
      "displayName": "Hongbin Zhang",
      "photoUrl": "",
      "userId": "17498312215065628903"
     },
     "user_tz": -120
    },
    "id": "ReDRrzDk-xFv",
    "outputId": "dd4c9982-9503-4214-f14f-8931a6b4a774"
   },
   "outputs": [
    {
     "name": "stdout",
     "output_type": "stream",
     "text": [
      "Hello World w/ double quotation marks!\n",
      "Hello World w/ single quotation marks.\n"
     ]
    }
   ],
   "source": [
    "# This is my first python code\n",
    "print(\"Hello World w/ double quotation marks!\") # Comments can be here as well\n",
    "# This line is going to be neglected.\n",
    "print('Hello World w/ single quotation marks.')"
   ]
  },
  {
   "cell_type": "code",
   "execution_count": 79,
   "metadata": {
    "colab": {
     "base_uri": "https://localhost:8080/"
    },
    "executionInfo": {
     "elapsed": 374,
     "status": "ok",
     "timestamp": 1617704783594,
     "user": {
      "displayName": "Hongbin Zhang",
      "photoUrl": "",
      "userId": "17498312215065628903"
     },
     "user_tz": -120
    },
    "id": "sRBj7UeUBDAo",
    "outputId": "673891e7-2451-4947-cd92-78076e8328a9"
   },
   "outputs": [
    {
     "name": "stdout",
     "output_type": "stream",
     "text": [
      "This is the first line.\n",
      " Here is a new line.\n"
     ]
    }
   ],
   "source": [
    "# How to use the escape character in print \\\n",
    "print(\"This is the first line.\\n Here is a new line.\")"
   ]
  },
  {
   "cell_type": "code",
   "execution_count": 85,
   "metadata": {
    "colab": {
     "base_uri": "https://localhost:8080/"
    },
    "executionInfo": {
     "elapsed": 507,
     "status": "ok",
     "timestamp": 1617704913513,
     "user": {
      "displayName": "Hongbin Zhang",
      "photoUrl": "",
      "userId": "17498312215065628903"
     },
     "user_tz": -120
    },
    "id": "uE1eRUL8BeaD",
    "outputId": "b5cc716d-4cb8-4815-aae6-a777b9ae4397"
   },
   "outputs": [
    {
     "name": "stdout",
     "output_type": "stream",
     "text": [
      "Let's print a single quotation mark'\n",
      "Let's\n",
      "Let\"s\n",
      "Let's\n",
      "Let's print a backslash \\\n"
     ]
    }
   ],
   "source": [
    "# Using the escape character to print special characters\n",
    "print(\"Let's print a single quotation mark\\'\") #Note that in this case double quotation marks is used\n",
    "print(\"Let's\")\n",
    "print('Let\"s')\n",
    "print('Let\\'s')\n",
    "print('Let\\'s print a backslash \\\\') #Note (1) '...\\'...', and (2) '...\\\\...'"
   ]
  },
  {
   "cell_type": "markdown",
   "metadata": {
    "id": "JYEboxKlDKf8"
   },
   "source": [
    "## Summary print()\n",
    "print() can be used to print almost everything if properly formated. If you are interested, please go through \n",
    "https://realpython.com/python-print/#print-is-a-function-in-python-3 (It is recommended to come back after learning more features of Python.)"
   ]
  },
  {
   "cell_type": "code",
   "execution_count": 86,
   "metadata": {
    "colab": {
     "base_uri": "https://localhost:8080/",
     "height": 54
    },
    "executionInfo": {
     "elapsed": 10346,
     "status": "ok",
     "timestamp": 1617705063440,
     "user": {
      "displayName": "Hongbin Zhang",
      "photoUrl": "",
      "userId": "17498312215065628903"
     },
     "user_tz": -120
    },
    "id": "wva9RV9FByk_",
    "outputId": "bafa3de2-8dd4-4ab8-db8f-4449e2f84827"
   },
   "outputs": [
    {
     "name": "stdout",
     "output_type": "stream",
     "text": [
      "adfadfadg\n"
     ]
    },
    {
     "data": {
      "application/vnd.google.colaboratory.intrinsic+json": {
       "type": "string"
      },
      "text/plain": [
       "'adfadfadg'"
      ]
     },
     "execution_count": 86,
     "metadata": {
      "tags": []
     },
     "output_type": "execute_result"
    }
   ],
   "source": [
    "# Now let's try to feed the computer\n",
    "input() # This is a build-in function to read the input "
   ]
  },
  {
   "cell_type": "code",
   "execution_count": 91,
   "metadata": {
    "colab": {
     "base_uri": "https://localhost:8080/",
     "height": 54
    },
    "executionInfo": {
     "elapsed": 11230,
     "status": "ok",
     "timestamp": 1617705363297,
     "user": {
      "displayName": "Hongbin Zhang",
      "photoUrl": "",
      "userId": "17498312215065628903"
     },
     "user_tz": -120
    },
    "id": "v0v55bINEKrG",
    "outputId": "cb74ff31-5f28-4fec-b17e-8a563d7783eb"
   },
   "outputs": [
    {
     "name": "stdout",
     "output_type": "stream",
     "text": [
      "Please enter your name: Hongbin\n"
     ]
    },
    {
     "data": {
      "application/vnd.google.colaboratory.intrinsic+json": {
       "type": "string"
      },
      "text/plain": [
       "'Hongbin'"
      ]
     },
     "execution_count": 91,
     "metadata": {
      "tags": []
     },
     "output_type": "execute_result"
    }
   ],
   "source": [
    "# The input function better works with a prompt \n",
    "input(\"Please enter your name: \") # By default, the input is treated as a string!\n"
   ]
  },
  {
   "cell_type": "code",
   "execution_count": 90,
   "metadata": {
    "colab": {
     "base_uri": "https://localhost:8080/"
    },
    "executionInfo": {
     "elapsed": 15299,
     "status": "ok",
     "timestamp": 1617705341210,
     "user": {
      "displayName": "Hongbin Zhang",
      "photoUrl": "",
      "userId": "17498312215065628903"
     },
     "user_tz": -120
    },
    "id": "moPUI-JKEb4_",
    "outputId": "10f85e87-b7ac-439d-80f7-80e3b24defcf"
   },
   "outputs": [
    {
     "name": "stdout",
     "output_type": "stream",
     "text": [
      "Please enter your address: Otto-Berndt-Str. 3\n",
      "Otto-Berndt-Str. 3\n"
     ]
    }
   ],
   "source": [
    "# Combining print and input \n",
    "print(input(\"Please enter your address: \"))\n"
   ]
  },
  {
   "cell_type": "code",
   "execution_count": 89,
   "metadata": {
    "colab": {
     "base_uri": "https://localhost:8080/"
    },
    "executionInfo": {
     "elapsed": 4932,
     "status": "ok",
     "timestamp": 1617705178613,
     "user": {
      "displayName": "Hongbin Zhang",
      "photoUrl": "",
      "userId": "17498312215065628903"
     },
     "user_tz": -120
    },
    "id": "HcsBh7P6EwDf",
    "outputId": "75360d96-52b1-46e8-ae34-c53ac185116c"
   },
   "outputs": [
    {
     "name": "stdout",
     "output_type": "stream",
     "text": [
      "Please enter your name:Hongbin\n",
      "Hello Hongbin!\n"
     ]
    }
   ],
   "source": [
    "# Concatenation in print\n",
    "print(\"Hello \" + input(\"Please enter your name:\")+ \"!\") # Several items can be printed together using \"+\""
   ]
  },
  {
   "cell_type": "markdown",
   "metadata": {
    "id": "YNeNH_f0FZmA"
   },
   "source": [
    "## Summary input()\n",
    "Input() is useful to read in one line from the users to get an interactive script. An informative guidance can be found at https://towardsdatascience.com/a-complete-guide-to-user-input-in-python-727561fc16e1 "
   ]
  },
  {
   "cell_type": "markdown",
   "metadata": {
    "id": "towVMFpcGytL"
   },
   "source": [
    "# Variables -- string\n",
    "A variable can be considered as a container, whose value can be updated when needed. \n",
    "\n",
    "A variable has two essential features: one is the name, the other is its value. The name lasts till the end of the code, while its value can be modified for your need."
   ]
  },
  {
   "cell_type": "code",
   "execution_count": 92,
   "metadata": {
    "colab": {
     "base_uri": "https://localhost:8080/"
    },
    "executionInfo": {
     "elapsed": 461,
     "status": "ok",
     "timestamp": 1617705673637,
     "user": {
      "displayName": "Hongbin Zhang",
      "photoUrl": "",
      "userId": "17498312215065628903"
     },
     "user_tz": -120
    },
    "id": "PcPwGuDxFDNR",
    "outputId": "42357386-9f04-4752-8c8e-9f7a378bff59"
   },
   "outputs": [
    {
     "name": "stdout",
     "output_type": "stream",
     "text": [
      "Python for beginners\n",
      "Python for beginners. It is easy.\n"
     ]
    }
   ],
   "source": [
    "#Let's try to look at a string variable\n",
    "phrase = \"Python for beginners\" \n",
    "'''\n",
    "Here a variable with the name \"phrase\" is defined, and assigned \n",
    "with the value \"Python for beginners\". As a matter of fact, phrase\n",
    "is a variable of the string type.\n",
    "'''\n",
    "print(phrase) #print can be used to print out the value of the variable \n",
    "print(phrase + \". It is easy.\") #concatenation"
   ]
  },
  {
   "cell_type": "code",
   "execution_count": 93,
   "metadata": {
    "colab": {
     "base_uri": "https://localhost:8080/"
    },
    "executionInfo": {
     "elapsed": 538,
     "status": "ok",
     "timestamp": 1617705730701,
     "user": {
      "displayName": "Hongbin Zhang",
      "photoUrl": "",
      "userId": "17498312215065628903"
     },
     "user_tz": -120
    },
    "id": "sExiODFvH0GN",
    "outputId": "46efd3db-035a-4afc-a94c-a0689e6af441"
   },
   "outputs": [
    {
     "name": "stdout",
     "output_type": "stream",
     "text": [
      "Python for beginners\n",
      "Python: From zero to hero\n"
     ]
    }
   ],
   "source": [
    "#The values of variables can be modified/updated/assigned.\n",
    "phrase = \"Python for beginners\"\n",
    "print(phrase)\n",
    "phrase = \"Python: From zero to hero\"\n",
    "print(phrase)"
   ]
  },
  {
   "cell_type": "code",
   "execution_count": 95,
   "metadata": {
    "colab": {
     "base_uri": "https://localhost:8080/"
    },
    "executionInfo": {
     "elapsed": 647,
     "status": "ok",
     "timestamp": 1617705798696,
     "user": {
      "displayName": "Hongbin Zhang",
      "photoUrl": "",
      "userId": "17498312215065628903"
     },
     "user_tz": -120
    },
    "id": "BdssYwGfIjcn",
    "outputId": "f88e1a2c-ef7f-48ec-c7f4-f9860e31d771"
   },
   "outputs": [
    {
     "name": "stdout",
     "output_type": "stream",
     "text": [
      "Python for Materials Science\n"
     ]
    }
   ],
   "source": [
    "#The values of variables can be modified/updated/assigned.\n",
    "phrase = \"Python for beginners\"\n",
    "phrase = \"Python: From zero to hero\"\n",
    "phrase = \"Python for Materials Science\"\n",
    "print(phrase) #Now only the updated value will be printed"
   ]
  },
  {
   "cell_type": "markdown",
   "metadata": {
    "id": "7hk9h-0GJRMP"
   },
   "source": [
    "## Summary string as a variable\n",
    "Variables will be saved in the memory so that it can be used again and again, with their values updated based on the needs."
   ]
  },
  {
   "cell_type": "markdown",
   "metadata": {
    "id": "4Y5FJELoJ3Hd"
   },
   "source": [
    "# Variables -- string -- functions\n",
    "Functions define some operations we would like to perform on the data, so that the information will be processes for better interpretation or further usage. One important feature of Python is that there are many built-in or third-party functions which can be used. "
   ]
  },
  {
   "cell_type": "code",
   "execution_count": 104,
   "metadata": {
    "colab": {
     "base_uri": "https://localhost:8080/"
    },
    "executionInfo": {
     "elapsed": 381,
     "status": "ok",
     "timestamp": 1617706327916,
     "user": {
      "displayName": "Hongbin Zhang",
      "photoUrl": "",
      "userId": "17498312215065628903"
     },
     "user_tz": -120
    },
    "id": "xkKHrdzbyeJd",
    "outputId": "0d0b2e16-b29a-43a7-942c-34adf5d5f438"
   },
   "outputs": [
    {
     "data": {
      "text/plain": [
       "0"
      ]
     },
     "execution_count": 104,
     "metadata": {
      "tags": []
     },
     "output_type": "execute_result"
    }
   ],
   "source": [
    "# first example with build-in functions\n",
    "phrase = \"Python for beginners?\"\n",
    "phrase.index(\"P\")"
   ]
  },
  {
   "cell_type": "code",
   "execution_count": 106,
   "metadata": {
    "colab": {
     "base_uri": "https://localhost:8080/"
    },
    "executionInfo": {
     "elapsed": 363,
     "status": "ok",
     "timestamp": 1617706341974,
     "user": {
      "displayName": "Hongbin Zhang",
      "photoUrl": "",
      "userId": "17498312215065628903"
     },
     "user_tz": -120
    },
    "id": "nCxVttRnIpMa",
    "outputId": "d0f57cba-6d1a-4cb7-904a-7455f5e801a5"
   },
   "outputs": [
    {
     "name": "stdout",
     "output_type": "stream",
     "text": [
      "python for materials science\n",
      "PYTHON FOR MATERIALS SCIENCE\n",
      "False\n"
     ]
    }
   ],
   "source": [
    "#Let's try to play with some build-in functions for strings\n",
    "phrase = \"Python for Materials Science\" # \"Phrase\" is understood as another variable, different from \"phrase\"\n",
    "print(phrase.lower())\n",
    "print(phrase.upper())\n",
    "print(phrase.isupper())"
   ]
  },
  {
   "cell_type": "code",
   "execution_count": 119,
   "metadata": {
    "colab": {
     "base_uri": "https://localhost:8080/"
    },
    "executionInfo": {
     "elapsed": 379,
     "status": "ok",
     "timestamp": 1617706873026,
     "user": {
      "displayName": "Hongbin Zhang",
      "photoUrl": "",
      "userId": "17498312215065628903"
     },
     "user_tz": -120
    },
    "id": "ufpq9QTxKtKD",
    "outputId": "4ad12ea7-08ce-4896-a8eb-abab4caabc53"
   },
   "outputs": [
    {
     "name": "stdout",
     "output_type": "stream",
     "text": [
      "True\n"
     ]
    }
   ],
   "source": [
    "phrase = \"Python for beginners\"\n",
    "print(phrase.upper().isupper())"
   ]
  },
  {
   "cell_type": "code",
   "execution_count": 19,
   "metadata": {
    "colab": {
     "base_uri": "https://localhost:8080/"
    },
    "executionInfo": {
     "elapsed": 409,
     "status": "ok",
     "timestamp": 1617695629150,
     "user": {
      "displayName": "Hongbin Zhang",
      "photoUrl": "",
      "userId": "17498312215065628903"
     },
     "user_tz": -120
    },
    "id": "E9b4AK9CK-eT",
    "outputId": "0a4fbf2d-464d-4b10-df39-f41d1236fb52"
   },
   "outputs": [
    {
     "name": "stdout",
     "output_type": "stream",
     "text": [
      "20\n"
     ]
    }
   ],
   "source": [
    "#Python for beginners\n",
    "#01234567890123456789 \n",
    "phrase = \"Python for beginners\"\n",
    "print(len(phrase)) #including the spaces"
   ]
  },
  {
   "cell_type": "code",
   "execution_count": 110,
   "metadata": {
    "colab": {
     "base_uri": "https://localhost:8080/"
    },
    "executionInfo": {
     "elapsed": 363,
     "status": "ok",
     "timestamp": 1617706531270,
     "user": {
      "displayName": "Hongbin Zhang",
      "photoUrl": "",
      "userId": "17498312215065628903"
     },
     "user_tz": -120
    },
    "id": "87NCl0bYLEXJ",
    "outputId": "d065a3bc-3e6c-49fe-91ae-7ad32dadeda7"
   },
   "outputs": [
    {
     "name": "stdout",
     "output_type": "stream",
     "text": [
      "hon f\n"
     ]
    }
   ],
   "source": [
    "#Python for beginners\n",
    "#01234567890123456789 \n",
    "phrase = \"Python for beginners\"\n",
    "print(phrase[3:8]) # index from zero"
   ]
  },
  {
   "cell_type": "code",
   "execution_count": 112,
   "metadata": {
    "colab": {
     "base_uri": "https://localhost:8080/"
    },
    "executionInfo": {
     "elapsed": 358,
     "status": "ok",
     "timestamp": 1617706599704,
     "user": {
      "displayName": "Hongbin Zhang",
      "photoUrl": "",
      "userId": "17498312215065628903"
     },
     "user_tz": -120
    },
    "id": "GQUFDSNELYMF",
    "outputId": "aaa13376-d507-484c-c14d-ea966249d7a9"
   },
   "outputs": [
    {
     "name": "stdout",
     "output_type": "stream",
     "text": [
      "0\n"
     ]
    }
   ],
   "source": [
    "#Python for beginners\n",
    "#01234567890123456789 \n",
    "phrase = \"Python for beginners\"\n",
    "print(phrase.index(\"P\"))"
   ]
  },
  {
   "cell_type": "code",
   "execution_count": 113,
   "metadata": {
    "colab": {
     "base_uri": "https://localhost:8080/"
    },
    "executionInfo": {
     "elapsed": 392,
     "status": "ok",
     "timestamp": 1617706626581,
     "user": {
      "displayName": "Hongbin Zhang",
      "photoUrl": "",
      "userId": "17498312215065628903"
     },
     "user_tz": -120
    },
    "id": "OLo8MF6hLh01",
    "outputId": "d475362a-979e-4997-8867-3ad78478b40d"
   },
   "outputs": [
    {
     "name": "stdout",
     "output_type": "stream",
     "text": [
      "11\n"
     ]
    }
   ],
   "source": [
    "#Python for beginners\n",
    "#01234567890123456789 \n",
    "phrase = \"Python for beginners\"\n",
    "print(phrase.index(\"beg\"))"
   ]
  },
  {
   "cell_type": "code",
   "execution_count": 24,
   "metadata": {
    "colab": {
     "base_uri": "https://localhost:8080/",
     "height": 198
    },
    "executionInfo": {
     "elapsed": 513,
     "status": "error",
     "timestamp": 1617695882136,
     "user": {
      "displayName": "Hongbin Zhang",
      "photoUrl": "",
      "userId": "17498312215065628903"
     },
     "user_tz": -120
    },
    "id": "SwUYwgTELmMi",
    "outputId": "877ddad5-cb9c-44e2-baa8-ad71bf98bee5"
   },
   "outputs": [
    {
     "ename": "ValueError",
     "evalue": "ignored",
     "output_type": "error",
     "traceback": [
      "\u001b[0;31m---------------------------------------------------------------------------\u001b[0m",
      "\u001b[0;31mValueError\u001b[0m                                Traceback (most recent call last)",
      "\u001b[0;32m<ipython-input-24-28cb9216aef0>\u001b[0m in \u001b[0;36m<module>\u001b[0;34m()\u001b[0m\n\u001b[1;32m      2\u001b[0m \u001b[0;31m#01234567890123456789\u001b[0m\u001b[0;34m\u001b[0m\u001b[0;34m\u001b[0m\u001b[0;34m\u001b[0m\u001b[0m\n\u001b[1;32m      3\u001b[0m \u001b[0mphrase\u001b[0m \u001b[0;34m=\u001b[0m \u001b[0;34m\"Python for beginners\"\u001b[0m\u001b[0;34m\u001b[0m\u001b[0;34m\u001b[0m\u001b[0m\n\u001b[0;32m----> 4\u001b[0;31m \u001b[0mprint\u001b[0m\u001b[0;34m(\u001b[0m\u001b[0mphrase\u001b[0m\u001b[0;34m.\u001b[0m\u001b[0mindex\u001b[0m\u001b[0;34m(\u001b[0m\u001b[0;34m\"zero\"\u001b[0m\u001b[0;34m)\u001b[0m\u001b[0;34m)\u001b[0m\u001b[0;34m\u001b[0m\u001b[0;34m\u001b[0m\u001b[0m\n\u001b[0m",
      "\u001b[0;31mValueError\u001b[0m: substring not found"
     ]
    }
   ],
   "source": [
    "#Python for beginners\n",
    "#01234567890123456789 \n",
    "phrase = \"Python for beginners\"\n",
    "print(phrase.index(\"zero\"))"
   ]
  },
  {
   "cell_type": "code",
   "execution_count": 114,
   "metadata": {
    "colab": {
     "base_uri": "https://localhost:8080/"
    },
    "executionInfo": {
     "elapsed": 437,
     "status": "ok",
     "timestamp": 1617706704258,
     "user": {
      "displayName": "Hongbin Zhang",
      "photoUrl": "",
      "userId": "17498312215065628903"
     },
     "user_tz": -120
    },
    "id": "zNvFkZYiMDlT",
    "outputId": "9e28e58c-ae51-4b4b-e399-f7da4a8b1de4"
   },
   "outputs": [
    {
     "name": "stdout",
     "output_type": "stream",
     "text": [
      "Tython for beginners\n",
      "Python for scientists\n"
     ]
    }
   ],
   "source": [
    "#Python for beginners\n",
    "#01234567890123456789 \n",
    "phrase = \"Python for beginners\"\n",
    "print(phrase.replace(\"P\",\"T\"))\n",
    "phrase = \"Python for beginners\"\n",
    "print(phrase.replace(\"beginners\",\"scientists\"))"
   ]
  },
  {
   "cell_type": "code",
   "execution_count": 117,
   "metadata": {
    "colab": {
     "base_uri": "https://localhost:8080/"
    },
    "executionInfo": {
     "elapsed": 470,
     "status": "ok",
     "timestamp": 1617706761773,
     "user": {
      "displayName": "Hongbin Zhang",
      "photoUrl": "",
      "userId": "17498312215065628903"
     },
     "user_tz": -120
    },
    "id": "sdglKVyqMRx_",
    "outputId": "e5a201d9-7ec2-460b-9271-32548fac6567"
   },
   "outputs": [
    {
     "name": "stdout",
     "output_type": "stream",
     "text": [
      "Python for scientists\n"
     ]
    }
   ],
   "source": [
    "phrase = \"Python for beginners\"\n",
    "phrase = phrase.replace(\"beginners\",\"scientists\")\n",
    "print(phrase)"
   ]
  },
  {
   "cell_type": "markdown",
   "metadata": {
    "id": "xRKHh6SGM3d7"
   },
   "source": [
    "## Summary string functions\n",
    "There are many build-in string functions, please refer to https://www.w3schools.com/python/python_ref_string.asp for a complete list and explanation."
   ]
  },
  {
   "cell_type": "markdown",
   "metadata": {
    "id": "TzojNXgaNPl1"
   },
   "source": [
    "# Variables -- integer, float, boolean \n",
    "Three other mostly used variables are integer, float, and boolean types. "
   ]
  },
  {
   "cell_type": "code",
   "execution_count": 120,
   "metadata": {
    "colab": {
     "base_uri": "https://localhost:8080/"
    },
    "executionInfo": {
     "elapsed": 448,
     "status": "ok",
     "timestamp": 1617706942146,
     "user": {
      "displayName": "Hongbin Zhang",
      "photoUrl": "",
      "userId": "17498312215065628903"
     },
     "user_tz": -120
    },
    "id": "m31irNvjMxwU",
    "outputId": "1efdd58c-a7bb-4c5d-d707-11cd8058c51c"
   },
   "outputs": [
    {
     "name": "stdout",
     "output_type": "stream",
     "text": [
      "2\n",
      "2.0\n"
     ]
    }
   ],
   "source": [
    "# integer\n",
    "x = 2\n",
    "print(x)\n",
    "\n",
    "# float\n",
    "x = 2.0\n",
    "print(x)"
   ]
  },
  {
   "cell_type": "code",
   "execution_count": 123,
   "metadata": {
    "colab": {
     "base_uri": "https://localhost:8080/"
    },
    "executionInfo": {
     "elapsed": 366,
     "status": "ok",
     "timestamp": 1617707016774,
     "user": {
      "displayName": "Hongbin Zhang",
      "photoUrl": "",
      "userId": "17498312215065628903"
     },
     "user_tz": -120
    },
    "id": "owCJSMiUN39w",
    "outputId": "7919423a-7bd8-43d9-b912-d93db285fa4d"
   },
   "outputs": [
    {
     "name": "stdout",
     "output_type": "stream",
     "text": [
      "0.75\n",
      "1\n"
     ]
    }
   ],
   "source": [
    "# operations on integer and fload variables\n",
    "#print(3+4)\n",
    "#print(3-4)\n",
    "#print(3*4)\n",
    "#print(3**4)\n",
    "#print(10%3)\n",
    "#print(-3.02)\n",
    "print(3/4) #Normal Division : Divides the value on the left by the one on the right. Notice that division results in a floating-point value.\n",
    "print(5//4) #Floor Division : Divides and returns the integer value of the quotient. It neglects the digits after the decimal."
   ]
  },
  {
   "cell_type": "code",
   "execution_count": 125,
   "metadata": {
    "colab": {
     "base_uri": "https://localhost:8080/"
    },
    "executionInfo": {
     "elapsed": 273,
     "status": "ok",
     "timestamp": 1617707089390,
     "user": {
      "displayName": "Hongbin Zhang",
      "photoUrl": "",
      "userId": "17498312215065628903"
     },
     "user_tz": -120
    },
    "id": "jSLF-IZ6ONSK",
    "outputId": "107c863c-1435-45d8-917c-6e345a52161b"
   },
   "outputs": [
    {
     "name": "stdout",
     "output_type": "stream",
     "text": [
      "8\n"
     ]
    }
   ],
   "source": [
    "# now using variables\n",
    "x = 5\n",
    "#x = x + 3\n",
    "x += 3 #augmented operation, the same as x = x + 3. Can be applied to -, *, /, etc.\n",
    "print(x)"
   ]
  },
  {
   "cell_type": "code",
   "execution_count": 43,
   "metadata": {
    "colab": {
     "base_uri": "https://localhost:8080/"
    },
    "executionInfo": {
     "elapsed": 455,
     "status": "ok",
     "timestamp": 1617696815942,
     "user": {
      "displayName": "Hongbin Zhang",
      "photoUrl": "",
      "userId": "17498312215065628903"
     },
     "user_tz": -120
    },
    "id": "yFpRMXQQO9K-",
    "outputId": "48c94285-3150-4f5e-d37b-76dc6315790f"
   },
   "outputs": [
    {
     "name": "stdout",
     "output_type": "stream",
     "text": [
      "16\n",
      "26\n",
      "16\n"
     ]
    }
   ],
   "source": [
    "# parenthesis should be used to mark the priority\n",
    "x = 10 + 3*2 \n",
    "print(x)\n",
    "\n",
    "x = (10+3)*2\n",
    "print(x)\n",
    "\n",
    "x = 10 + (3*2)\n",
    "print(x)"
   ]
  },
  {
   "cell_type": "code",
   "execution_count": 44,
   "metadata": {
    "colab": {
     "base_uri": "https://localhost:8080/"
    },
    "executionInfo": {
     "elapsed": 662,
     "status": "ok",
     "timestamp": 1617696844745,
     "user": {
      "displayName": "Hongbin Zhang",
      "photoUrl": "",
      "userId": "17498312215065628903"
     },
     "user_tz": -120
    },
    "id": "KlQ4qu4vPbed",
    "outputId": "fe9d9818-0977-4f3c-817f-fe2cc09aed02"
   },
   "outputs": [
    {
     "name": "stdout",
     "output_type": "stream",
     "text": [
      "1000000\n"
     ]
    }
   ],
   "source": [
    "# to make it more clear\n",
    "x = 1_000_000\n",
    "print(x)"
   ]
  },
  {
   "cell_type": "code",
   "execution_count": 126,
   "metadata": {
    "colab": {
     "base_uri": "https://localhost:8080/"
    },
    "executionInfo": {
     "elapsed": 377,
     "status": "ok",
     "timestamp": 1617707200161,
     "user": {
      "displayName": "Hongbin Zhang",
      "photoUrl": "",
      "userId": "17498312215065628903"
     },
     "user_tz": -120
    },
    "id": "F5mcMRJoQGyz",
    "outputId": "3fbf42e7-3291-4bd4-ee5d-9cc0584454f2"
   },
   "outputs": [
    {
     "name": "stdout",
     "output_type": "stream",
     "text": [
      "5\n",
      "-125\n"
     ]
    }
   ],
   "source": [
    "#There are also a number of build in functions for numbers\n",
    "num = -5\n",
    "print(abs(num)) #absolute value\n",
    "print(pow(num,3)) #squre"
   ]
  },
  {
   "cell_type": "code",
   "execution_count": 49,
   "metadata": {
    "colab": {
     "base_uri": "https://localhost:8080/"
    },
    "executionInfo": {
     "elapsed": 414,
     "status": "ok",
     "timestamp": 1617697069630,
     "user": {
      "displayName": "Hongbin Zhang",
      "photoUrl": "",
      "userId": "17498312215065628903"
     },
     "user_tz": -120
    },
    "id": "K9hSu5iHQbgq",
    "outputId": "6f316423-3641-4e2c-e629-663669ac5b92"
   },
   "outputs": [
    {
     "name": "stdout",
     "output_type": "stream",
     "text": [
      "20\n",
      "0.6\n",
      "3\n",
      "4\n"
     ]
    }
   ],
   "source": [
    "print(max(1, 5, 20)) \n",
    "print(min(1.3, 0.6, 28))\n",
    "print(round(3.2))\n",
    "print(round(3.5))"
   ]
  },
  {
   "cell_type": "code",
   "execution_count": 128,
   "metadata": {
    "colab": {
     "base_uri": "https://localhost:8080/"
    },
    "executionInfo": {
     "elapsed": 422,
     "status": "ok",
     "timestamp": 1617707272687,
     "user": {
      "displayName": "Hongbin Zhang",
      "photoUrl": "",
      "userId": "17498312215065628903"
     },
     "user_tz": -120
    },
    "id": "g6FwhlwDPuiF",
    "outputId": "ea867465-8461-4b02-f918-79c5a70758c3"
   },
   "outputs": [
    {
     "name": "stdout",
     "output_type": "stream",
     "text": [
      "True\n",
      "False\n"
     ]
    }
   ],
   "source": [
    "# for a boolean variable, there are only two possible values: True or False \n",
    "# but not true or false \n",
    "is_true = True\n",
    "print(is_true)\n",
    "\n",
    "is_false = False\n",
    "print(is_false)"
   ]
  },
  {
   "cell_type": "code",
   "execution_count": 51,
   "metadata": {
    "colab": {
     "base_uri": "https://localhost:8080/"
    },
    "executionInfo": {
     "elapsed": 386,
     "status": "ok",
     "timestamp": 1617697240778,
     "user": {
      "displayName": "Hongbin Zhang",
      "photoUrl": "",
      "userId": "17498312215065628903"
     },
     "user_tz": -120
    },
    "id": "ie3tiQZBQ76J",
    "outputId": "5352a664-85c5-4b5d-a64b-e45711c8b79c"
   },
   "outputs": [
    {
     "name": "stdout",
     "output_type": "stream",
     "text": [
      "False\n",
      "True\n",
      "False\n",
      "True\n"
     ]
    }
   ],
   "source": [
    "# operations on boolean variables\n",
    "print(is_true and is_false) # both should be true \n",
    "print(is_true or is_false) # either one is true\n",
    "print(not is_true)\n",
    "print(not is_false)"
   ]
  },
  {
   "cell_type": "code",
   "execution_count": 135,
   "metadata": {
    "colab": {
     "base_uri": "https://localhost:8080/"
    },
    "executionInfo": {
     "elapsed": 372,
     "status": "ok",
     "timestamp": 1617707590945,
     "user": {
      "displayName": "Hongbin Zhang",
      "photoUrl": "",
      "userId": "17498312215065628903"
     },
     "user_tz": -120
    },
    "id": "CKBcs-oDQCg4",
    "outputId": "8be56d7b-6a61-475a-a741-ac837b0c80e0"
   },
   "outputs": [
    {
     "name": "stdout",
     "output_type": "stream",
     "text": [
      "False\n",
      "True\n",
      "True\n",
      "True\n"
     ]
    }
   ],
   "source": [
    "# A few examples combining numbers and boolean variables\n",
    "# when more than one operations are combined into one line, then the right most operation will be evaluated first, and progressively to the left.\n",
    "\n",
    "x = 3 <= 2\n",
    "print(x)\n",
    "\n",
    "y = not x\n",
    "print(y)\n",
    "\n",
    "y = not 3 <= 2 \n",
    "print(y)\n",
    "\n",
    "y = not (3 <= 2) \n",
    "print(y)\n",
    "\n"
   ]
  },
  {
   "cell_type": "code",
   "execution_count": 136,
   "metadata": {
    "colab": {
     "base_uri": "https://localhost:8080/"
    },
    "executionInfo": {
     "elapsed": 416,
     "status": "ok",
     "timestamp": 1617707617666,
     "user": {
      "displayName": "Hongbin Zhang",
      "photoUrl": "",
      "userId": "17498312215065628903"
     },
     "user_tz": -120
    },
    "id": "HL2FwXqtRXzB",
    "outputId": "31d2ace4-86d6-46d8-b79b-a1e91e36320a"
   },
   "outputs": [
    {
     "name": "stdout",
     "output_type": "stream",
     "text": [
      "False\n",
      "True\n",
      "True\n"
     ]
    }
   ],
   "source": [
    "price = 5\n",
    "print(price > 10 and price < 30)\n",
    "print(price > 10 or price < 30)\n",
    "print(not price > 10)"
   ]
  },
  {
   "cell_type": "code",
   "execution_count": 137,
   "metadata": {
    "colab": {
     "base_uri": "https://localhost:8080/"
    },
    "executionInfo": {
     "elapsed": 364,
     "status": "ok",
     "timestamp": 1617707634966,
     "user": {
      "displayName": "Hongbin Zhang",
      "photoUrl": "",
      "userId": "17498312215065628903"
     },
     "user_tz": -120
    },
    "id": "TgrG2AzpUZoT",
    "outputId": "01e94278-846d-44ea-df15-d3f20815f5d7"
   },
   "outputs": [
    {
     "name": "stdout",
     "output_type": "stream",
     "text": [
      "False\n",
      "False\n",
      "True\n",
      "True\n",
      "True\n",
      "False\n"
     ]
    }
   ],
   "source": [
    "x = 5\n",
    "y = 8\n",
    "print(x >= y)\n",
    "print(x == y)\n",
    "print(x != y)\n",
    "print(x <= y)\n",
    "print(x < y)\n",
    "print(x > y)"
   ]
  },
  {
   "cell_type": "markdown",
   "metadata": {
    "id": "HOUoUtRJRvDY"
   },
   "source": [
    "## Summary numbers and boolean variables\n",
    "Extended discussion about numbers, please refer to https://www.tutorialspoint.com/python/python_numbers.htm\n",
    "\n",
    "For more about boolean variables, please refer to https://www.w3schools.com/python/python_booleans.asp\n"
   ]
  },
  {
   "cell_type": "markdown",
   "metadata": {
    "id": "yhklOdG5SThy"
   },
   "source": [
    "# Conversion between variable types\n",
    "The variables can be converted to different types, using str(), bool(), float(), int()"
   ]
  },
  {
   "cell_type": "code",
   "execution_count": 138,
   "metadata": {
    "colab": {
     "base_uri": "https://localhost:8080/"
    },
    "executionInfo": {
     "elapsed": 522,
     "status": "ok",
     "timestamp": 1617707734005,
     "user": {
      "displayName": "Hongbin Zhang",
      "photoUrl": "",
      "userId": "17498312215065628903"
     },
     "user_tz": -120
    },
    "id": "I4dwjxA1RhYN",
    "outputId": "da75d74a-c16e-4412-9ac9-3cd1dd820a84"
   },
   "outputs": [
    {
     "name": "stdout",
     "output_type": "stream",
     "text": [
      "True\n",
      "False\n"
     ]
    }
   ],
   "source": [
    "#Let's convert a string to boolean\n",
    "phrase=\".\"\n",
    "print(bool(phrase))\n",
    "\n",
    "phrase=\"\"\n",
    "print(bool(phrase))"
   ]
  },
  {
   "cell_type": "code",
   "execution_count": 139,
   "metadata": {
    "colab": {
     "base_uri": "https://localhost:8080/"
    },
    "executionInfo": {
     "elapsed": 664,
     "status": "ok",
     "timestamp": 1617707766369,
     "user": {
      "displayName": "Hongbin Zhang",
      "photoUrl": "",
      "userId": "17498312215065628903"
     },
     "user_tz": -120
    },
    "id": "R2k651EFSt3Z",
    "outputId": "d92def02-1353-4ff6-c813-848bc073d172"
   },
   "outputs": [
    {
     "name": "stdout",
     "output_type": "stream",
     "text": [
      "5\n",
      "5\n",
      "25.25\n",
      "False\n",
      "True\n",
      "True\n"
     ]
    }
   ],
   "source": [
    "#Let's convert numbers to string and boolean variables\n",
    "x = 5\n",
    "print(x)\n",
    "print(str(x))\n",
    "\n",
    "y = 25.25\n",
    "print(str(y))\n",
    "\n",
    "z = 0\n",
    "print(bool(0))\n",
    "\n",
    "z = 1\n",
    "print(bool(1))\n",
    "\n",
    "print(bool(35.2))"
   ]
  },
  {
   "cell_type": "code",
   "execution_count": 141,
   "metadata": {
    "colab": {
     "base_uri": "https://localhost:8080/",
     "height": 198
    },
    "executionInfo": {
     "elapsed": 402,
     "status": "error",
     "timestamp": 1617707976544,
     "user": {
      "displayName": "Hongbin Zhang",
      "photoUrl": "",
      "userId": "17498312215065628903"
     },
     "user_tz": -120
    },
    "id": "nXk3_xoW6KsP",
    "outputId": "e4ade491-ec64-486a-9a15-862ba077f9cd"
   },
   "outputs": [
    {
     "ename": "TypeError",
     "evalue": "ignored",
     "output_type": "error",
     "traceback": [
      "\u001b[0;31m---------------------------------------------------------------------------\u001b[0m",
      "\u001b[0;31mTypeError\u001b[0m                                 Traceback (most recent call last)",
      "\u001b[0;32m<ipython-input-141-c2354bd22229>\u001b[0m in \u001b[0;36m<module>\u001b[0;34m()\u001b[0m\n\u001b[1;32m      2\u001b[0m \u001b[0mname\u001b[0m \u001b[0;34m=\u001b[0m \u001b[0;34m\"David\"\u001b[0m\u001b[0;34m\u001b[0m\u001b[0;34m\u001b[0m\u001b[0m\n\u001b[1;32m      3\u001b[0m \u001b[0mage\u001b[0m \u001b[0;34m=\u001b[0m \u001b[0;36m35\u001b[0m\u001b[0;34m\u001b[0m\u001b[0;34m\u001b[0m\u001b[0m\n\u001b[0;32m----> 4\u001b[0;31m \u001b[0mprint\u001b[0m\u001b[0;34m(\u001b[0m\u001b[0;34m\"His name is \"\u001b[0m \u001b[0;34m+\u001b[0m \u001b[0mname\u001b[0m \u001b[0;34m+\u001b[0m \u001b[0;34m\". And he is \"\u001b[0m \u001b[0;34m+\u001b[0m \u001b[0mage\u001b[0m \u001b[0;34m+\u001b[0m\u001b[0;34m\" years old.\"\u001b[0m\u001b[0;34m)\u001b[0m\u001b[0;34m\u001b[0m\u001b[0;34m\u001b[0m\u001b[0m\n\u001b[0m",
      "\u001b[0;31mTypeError\u001b[0m: can only concatenate str (not \"int\") to str"
     ]
    }
   ],
   "source": [
    "#IMPORTANT: numbers should be converted into strings when printed by concatenation\n",
    "name = \"David\"\n",
    "age = 35\n",
    "print(\"His name is \" + name + \". And he is \" + age +\" years old.\")"
   ]
  },
  {
   "cell_type": "code",
   "execution_count": 140,
   "metadata": {
    "colab": {
     "base_uri": "https://localhost:8080/"
    },
    "executionInfo": {
     "elapsed": 557,
     "status": "ok",
     "timestamp": 1617707959909,
     "user": {
      "displayName": "Hongbin Zhang",
      "photoUrl": "",
      "userId": "17498312215065628903"
     },
     "user_tz": -120
    },
    "id": "5UwU4-xHTKNx",
    "outputId": "ddc36636-87bd-49ae-9f71-891902b0c1d1"
   },
   "outputs": [
    {
     "name": "stdout",
     "output_type": "stream",
     "text": [
      "His name is David. And he is 35 years old.\n"
     ]
    }
   ],
   "source": [
    "#IMPORTANT: numbers should be converted into strings when printed by concatenation\n",
    "name = \"David\"\n",
    "age = 35\n",
    "print(\"His name is \" + name + \". And he is \" + str(age) +\" years old.\")"
   ]
  },
  {
   "cell_type": "markdown",
   "metadata": {
    "id": "tjaO_cJpUH62"
   },
   "source": [
    "# Conditions\n",
    "This is an effective way to distinguish different situations so that effective actions can be taken."
   ]
  },
  {
   "cell_type": "code",
   "execution_count": 150,
   "metadata": {
    "colab": {
     "base_uri": "https://localhost:8080/",
     "height": 130
    },
    "executionInfo": {
     "elapsed": 394,
     "status": "error",
     "timestamp": 1617708374430,
     "user": {
      "displayName": "Hongbin Zhang",
      "photoUrl": "",
      "userId": "17498312215065628903"
     },
     "user_tz": -120
    },
    "id": "ploGJJT0680e",
    "outputId": "93db8909-563b-44d9-80ad-1b54e6ea7e7f"
   },
   "outputs": [
    {
     "ename": "IndentationError",
     "evalue": "ignored",
     "output_type": "error",
     "traceback": [
      "\u001b[0;36m  File \u001b[0;32m\"<ipython-input-150-ae8ed447d6ce>\"\u001b[0;36m, line \u001b[0;32m3\u001b[0m\n\u001b[0;31m    print(\"it is hot\") # without indentation, it is not correct\u001b[0m\n\u001b[0m        ^\u001b[0m\n\u001b[0;31mIndentationError\u001b[0m\u001b[0;31m:\u001b[0m expected an indented block\n"
     ]
    }
   ],
   "source": [
    "temperature = 35 \n",
    "if (temperature >= 30):\n",
    "print(\"it is hot\") # without indentation, it is not correct\n",
    "\n"
   ]
  },
  {
   "cell_type": "code",
   "execution_count": 156,
   "metadata": {
    "colab": {
     "base_uri": "https://localhost:8080/"
    },
    "executionInfo": {
     "elapsed": 373,
     "status": "ok",
     "timestamp": 1617708524617,
     "user": {
      "displayName": "Hongbin Zhang",
      "photoUrl": "",
      "userId": "17498312215065628903"
     },
     "user_tz": -120
    },
    "id": "a7XuoIqyT8Ts",
    "outputId": "ccc4d469-5c34-4536-c104-2e8de2a86390"
   },
   "outputs": [
    {
     "name": "stdout",
     "output_type": "stream",
     "text": [
      "It is not hot\n",
      "within the conditions.\n",
      "Done with the conditions\n"
     ]
    }
   ],
   "source": [
    "temperature = 25\n",
    "\n",
    "if (temperature >= 30): #always end with a colon\n",
    "  print(\"It is hot!\") # with proper indentation\n",
    "else:\n",
    "  print(\"It is not hot\") \n",
    "\n",
    "\n",
    "#within the conditions \n",
    "  print(\"within the conditions.\")\n",
    "\n",
    "#After the conditions\n",
    "print(\"Done with the conditions\")"
   ]
  },
  {
   "cell_type": "code",
   "execution_count": 161,
   "metadata": {
    "colab": {
     "base_uri": "https://localhost:8080/"
    },
    "executionInfo": {
     "elapsed": 356,
     "status": "ok",
     "timestamp": 1617708655609,
     "user": {
      "displayName": "Hongbin Zhang",
      "photoUrl": "",
      "userId": "17498312215065628903"
     },
     "user_tz": -120
    },
    "id": "laKhteukVWAL",
    "outputId": "e97a69e2-285d-4730-e807-830d09eba936"
   },
   "outputs": [
    {
     "name": "stdout",
     "output_type": "stream",
     "text": [
      "It is cool.\n"
     ]
    }
   ],
   "source": [
    "temperature = 5\n",
    "\n",
    "if (temperature >= 30): #always end with a colon\n",
    "  print(\"It is hot!\") # with proper indentation\n",
    "elif (temperature >= 20): # [20, 30)\n",
    "  print(\"It is warm.\") \n",
    "elif (temperature >= 10): # [10, 20)\n",
    "  print(\"It is mild.\")\n",
    "elif (temperature>= 0):   # [0, 10)\n",
    "  print(\"It is cool.\")\n",
    "else:  # (-infity, 0)\n",
    "  print(\"It is cold.\")\n"
   ]
  },
  {
   "cell_type": "markdown",
   "metadata": {
    "id": "Nb5XFpLbWD_S"
   },
   "source": [
    "# Exercise\n",
    "A code to convert between kilograms and pounds"
   ]
  },
  {
   "cell_type": "code",
   "execution_count": 2,
   "metadata": {
    "colab": {
     "base_uri": "https://localhost:8080/",
     "height": 266
    },
    "executionInfo": {
     "elapsed": 6791,
     "status": "error",
     "timestamp": 1617698715952,
     "user": {
      "displayName": "Hongbin Zhang",
      "photoUrl": "",
      "userId": "17498312215065628903"
     },
     "user_tz": -120
    },
    "id": "wWtA_os_V0gr",
    "outputId": "4c9d739c-a79a-4e72-b977-1244046757a8"
   },
   "outputs": [
    {
     "name": "stdout",
     "output_type": "stream",
     "text": [
      "Enter the weight: 45\n",
      "(K)g or (L)bs: i\n",
      "Weight in Kgs:20.25\n"
     ]
    }
   ],
   "source": [
    "weight = input(\"Enter the weight: \")\n",
    "unit = input(\"(K)g or (L)bs: \")\n",
    "if unit.upper() == \"K\":\n",
    "  converted = float(weight) / 0.45\n",
    "  print(\"Weight in Lbs: \" + str(converted))\n",
    "else:\n",
    "  converted = float(weight) * 0.45\n",
    "  print(\"Weight in Kgs:\" + str(converted))"
   ]
  },
  {
   "cell_type": "markdown",
   "metadata": {
    "id": "xQI1VmASW6pU"
   },
   "source": [
    "# Homework\n",
    "Following the weight unit conversion, write a code to (1) convert between Celsius and Kelvin or (2) convert between eV and cm$^{-1}$, with proper input prompts and printing. If possible, please consider also cases when the users input randomly for both the number and the unit."
   ]
  },
  {
   "cell_type": "code",
   "execution_count": 3,
   "metadata": {
    "id": "MQbUTuWQW15I"
   },
   "outputs": [
    {
     "name": "stdout",
     "output_type": "stream",
     "text": [
      "Enter the temperature: 25\n",
      "(K)elvin or Celsius: t\n",
      "Sorry, I do not understand the unit you put in!\n"
     ]
    }
   ],
   "source": [
    "temperature = input(\"Enter the temperature: \")\n",
    "unit = input(\"(K)elvin or Celsius: \")\n",
    "if unit.upper() == \"K\":\n",
    "  converted = float(temperature) - 273.15\n",
    "  print(\"Temperature in Celsius: \" + str(converted))\n",
    "elif unit.upper() == \"C\":\n",
    "  converted = float(temperature) + 273.15\n",
    "  print(\"Temperature in Kelvin:\" + str(converted))\n",
    "else:\n",
    "  print(\"Sorry, I do not understand the unit you put in!\")"
   ]
  },
  {
   "cell_type": "code",
   "execution_count": null,
   "metadata": {},
   "outputs": [],
   "source": []
  }
 ],
 "metadata": {
  "colab": {
   "authorship_tag": "ABX9TyOxYyr/9dBcZL4Vt9xO+i7B",
   "collapsed_sections": [],
   "name": "Lecture01.ipynb",
   "provenance": []
  },
  "kernelspec": {
   "display_name": "Python 3",
   "language": "python",
   "name": "python3"
  },
  "language_info": {
   "codemirror_mode": {
    "name": "ipython",
    "version": 3
   },
   "file_extension": ".py",
   "mimetype": "text/x-python",
   "name": "python",
   "nbconvert_exporter": "python",
   "pygments_lexer": "ipython3",
   "version": "3.7.9"
  }
 },
 "nbformat": 4,
 "nbformat_minor": 1
}
